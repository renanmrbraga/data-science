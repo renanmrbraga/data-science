{
 "cells": [
  {
   "cell_type": "code",
   "execution_count": null,
   "metadata": {},
   "outputs": [
    {
     "ename": "",
     "evalue": "",
     "output_type": "error",
     "traceback": [
      "\u001b[1;31mRunning cells with 'venv (Python 3.13.1)' requires the ipykernel package.\n",
      "\u001b[1;31mRun the following command to install 'ipykernel' into the Python environment. \n",
      "\u001b[1;31mCommand: '\"d:/Documents/Meus Documentos/Cursos/Escola DNC/Cientista de Dados/Cases/Estudos/venv/Scripts/python.exe\" -m pip install ipykernel -U --force-reinstall'"
     ]
    }
   ],
   "source": [
    "import pandas as pd\n",
    "import plotly.io as pio\n",
    "import plotly.express as px\n",
    "import os\n",
    "\n",
    "# Definir caminho base\n",
    "caminho_base = os.path.join('..', 'Materiais')\n",
    "\n",
    "# Carregar base de vendas\n",
    "caminho_vendas = os.path.join(caminho_base, 'varejo.xlsx')\n",
    "vendas = pd.read_excel(caminho_vendas)\n",
    "\n",
    "# Substituir valores inconsistentes na coluna 'idcanalvenda'\n",
    "vendas['idcanalvenda'] = vendas['idcanalvenda'].str.replace('APP', 'Aplicativo')\n",
    "\n",
    "# Corrigir espaços na coluna 'Nome_Departamento'\n",
    "vendas['Nome_Departamento'] = vendas['Nome_Departamento'].str.replace(' ', '_')\n",
    "\n",
    "# Tratar valores nulos na coluna 'estado'\n",
    "vendas['estado'] = vendas['estado'].fillna('MS')\n",
    "\n",
    "# Tratar valores nulos na coluna 'Preço'\n",
    "media_preco = vendas['Preço'].mean()\n",
    "vendas['Preço'] = vendas['Preço'].fillna(media_preco)\n",
    "\n",
    "# Filtrar registros onde o preço está correto\n",
    "vendas_correto = vendas.query('Preço < Preço_com_frete').copy()\n",
    "\n",
    "# Criar nova coluna 'mes' a partir da data\n",
    "vendas_correto['mes'] = vendas_correto['Data'].dt.month\n",
    "\n",
    "# Carregar base de clientes\n",
    "try:\n",
    "    caminho_cliente = os.path.join(caminho_base, 'cliente_varejo.xlsx')\n",
    "    cliente = pd.read_excel(caminho_cliente)\n",
    "    cliente = cliente.astype({'renda': 'float'})\n",
    "    \n",
    "    # Juntar as bases\n",
    "    vendas_cliente = vendas_correto.merge(cliente, how='left', on='cliente_Log')\n",
    "except FileNotFoundError:\n",
    "    print(\"Arquivo de clientes não encontrado.\")\n"
   ]
  },
  {
   "cell_type": "code",
   "execution_count": null,
   "metadata": {},
   "outputs": [],
   "source": [
    "# Criar agregações para gráficos\n",
    "agg_idcanal_renda = round(vendas_cliente.groupby('idcanalvenda')['renda'].agg('mean').sort_values(ascending=False).reset_index(), 2)\n",
    "agg_idade_bandeira = round(vendas_cliente.groupby('bandeira')['idade'].agg('mean').sort_values(ascending=False).reset_index(), 2)\n",
    "agg_dept_preco = round(vendas_correto.groupby('Nome_Departamento')['Preço_com_frete'].agg('mean').sort_values(ascending=False).reset_index(), 2)\n",
    "venda_por_data = vendas_correto.groupby('Data').idcompra.nunique().reset_index()\n"
   ]
  },
  {
   "cell_type": "code",
   "execution_count": null,
   "metadata": {},
   "outputs": [],
   "source": [
    "# Gráfico 1 com plotly\n",
    "fig1 = px.bar(agg_idade_bandeira, x='bandeira', y='idade')\n",
    "fig1.show()  # Exibir o gráfico diretamente no Jupyter\n"
   ]
  },
  {
   "cell_type": "code",
   "execution_count": null,
   "metadata": {},
   "outputs": [],
   "source": [
    "# Gráfico 2 com plotly\n",
    "fig2 = px.line(venda_por_data, x='Data', y='idcompra')\n",
    "fig2.show()  # Exibir o gráfico diretamente no Jupyter\n"
   ]
  },
  {
   "cell_type": "code",
   "execution_count": null,
   "metadata": {},
   "outputs": [],
   "source": [
    "px.bar(agg_dept_preco, x='Nome_Departamento', y='Preço_com_frete')"
   ]
  }
 ],
 "metadata": {
  "kernelspec": {
   "display_name": "venv",
   "language": "python",
   "name": "python3"
  },
  "language_info": {
   "codemirror_mode": {
    "name": "ipython",
    "version": 3
   },
   "file_extension": ".py",
   "mimetype": "text/x-python",
   "name": "python",
   "nbconvert_exporter": "python",
   "pygments_lexer": "ipython3",
   "version": "3.13.1"
  }
 },
 "nbformat": 4,
 "nbformat_minor": 2
}
